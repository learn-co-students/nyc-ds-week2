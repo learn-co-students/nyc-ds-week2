{
 "cells": [
  {
   "cell_type": "markdown",
   "metadata": {},
   "source": [
    "# SQL 📚"
   ]
  },
  {
   "cell_type": "markdown",
   "metadata": {},
   "source": [
    "## Tasks\n",
    "\n",
    "**Please deliver the following:** \n",
    "\n",
    "1. A function named `stocks_2017` that returns a dataframe of all stock prices for the year of 2017. \n",
    "    - Drop all null values from this dataframe. \n",
    "    \n",
    "2. Please create a file named `data_collection.py` within the `src` folder containing this function. \n",
    "3. Create a function called `begins_with_count`\n",
    "    - This function should receive a letter and return the number of companies that begin with the given letter.\n",
    "4. Create a histogram visualizing the distribution of these counts for every letter in the alphabet.\n",
    "5. Interpret the histogram.\n",
    "\n",
    "### How do I do this?\n",
    "\n",
    "You have been given a database called `stocks.db` within the [data/](data/) folder of this repo. \n",
    "- This database contains the opening and closing prices for the S&P 500 from 2013-2018.\n",
    "\n",
    "You will need to open up a connection to this database, construct an approproate SQL query, and move this code into a `stocks_2017` function."
   ]
  },
  {
   "cell_type": "markdown",
   "metadata": {},
   "source": [
    "<center><h3>DATABASE SCHEMA</h3></center>\n",
    "\n",
    "<img src=\"../static/db_schema.png\" width=500 height=500>"
   ]
  },
  {
   "cell_type": "markdown",
   "metadata": {},
   "source": [
    "Please complete the assigned task below:"
   ]
  },
  {
   "cell_type": "code",
   "execution_count": 16,
   "metadata": {
    "ExecuteTime": {
     "end_time": "2020-09-21T19:54:22.150875Z",
     "start_time": "2020-09-21T19:54:22.146225Z"
    }
   },
   "outputs": [],
   "source": [
    "import pandas as pd\n",
    "import sqlite3\n",
    "import matplotlib.pyplot as plt\n",
    "\n",
    "def stocks(year):\n",
    "    conn = sqlite3.connect('../data/stocks.db')\n",
    "    stocks = pd.read_sql(f'''\n",
    "                  SELECT open,\n",
    "                         close,\n",
    "                         date,\n",
    "                         name\n",
    "                  FROM price\n",
    "                  JOIN date\n",
    "                  ON price.date_id = date.id\n",
    "                  JOIN company\n",
    "                  ON price.company_id = company.id\n",
    "                  WHERE date BETWEEN date('{year}-01-01') and date('{year+1}-01-01')''', conn)\n",
    "    \n",
    "    stocks.date = pd.to_datetime(stocks.date)\n",
    "    return stocks"
   ]
  },
  {
   "cell_type": "code",
   "execution_count": 3,
   "metadata": {
    "ExecuteTime": {
     "end_time": "2020-09-21T19:49:24.462356Z",
     "start_time": "2020-09-21T19:49:23.958044Z"
    }
   },
   "outputs": [],
   "source": [
    "df = stocks(2017)"
   ]
  },
  {
   "cell_type": "code",
   "execution_count": 13,
   "metadata": {
    "ExecuteTime": {
     "end_time": "2020-09-21T19:53:57.051205Z",
     "start_time": "2020-09-21T19:53:56.067114Z"
    }
   },
   "outputs": [],
   "source": [
    "import string\n",
    "\n",
    "def begins_with_count(letter):\n",
    "    return len(df[df.name.str.startswith(letter)].name.unique())\n",
    "\n",
    "begins_with = {}\n",
    "for letter in string.ascii_uppercase:\n",
    "    begins_with[letter] = begins_with_count(letter)"
   ]
  },
  {
   "cell_type": "code",
   "execution_count": 18,
   "metadata": {
    "ExecuteTime": {
     "end_time": "2020-09-21T19:54:28.263751Z",
     "start_time": "2020-09-21T19:54:28.103269Z"
    }
   },
   "outputs": [
    {
     "data": {
      "image/png": "[encoded data removed]",
      "text/plain": [
       "<Figure size 432x288 with 1 Axes>"
      ]
     },
     "metadata": {
      "needs_background": "light"
     },
     "output_type": "display_data"
    }
   ],
   "source": [
    "plt.hist(begins_with.values());"
   ]
  },
  {
   "cell_type": "code",
   "execution_count": null,
   "metadata": {},
   "outputs": [],
   "source": []
  }
 ],
 "metadata": {
  "kernelspec": {
   "display_name": "Python 3",
   "language": "python",
   "name": "python3"
  },
  "language_info": {
   "codemirror_mode": {
    "name": "ipython",
    "version": 3
   },
   "file_extension": ".py",
   "mimetype": "text/x-python",
   "name": "python",
   "nbconvert_exporter": "python",
   "pygments_lexer": "ipython3",
   "version": "3.7.7"
  },
  "toc": {
   "base_numbering": 1,
   "nav_menu": {},
   "number_sections": false,
   "sideBar": true,
   "skip_h1_title": true,
   "title_cell": "Table of Contents",
   "title_sidebar": "Contents",
   "toc_cell": false,
   "toc_position": {},
   "toc_section_display": true,
   "toc_window_display": false
  },
  "varInspector": {
   "cols": {
    "lenName": 16,
    "lenType": 16,
    "lenVar": 40
   },
   "kernels_config": {
    "python": {
     "delete_cmd_postfix": "",
     "delete_cmd_prefix": "del ",
     "library": "var_list.py",
     "varRefreshCmd": "print(var_dic_list())"
    },
    "r": {
     "delete_cmd_postfix": ") ",
     "delete_cmd_prefix": "rm(",
     "library": "var_list.r",
     "varRefreshCmd": "cat(var_dic_list()) "
    }
   },
   "types_to_exclude": [
    "module",
    "function",
    "builtin_function_or_method",
    "instance",
    "_Feature"
   ],
   "window_display": false
  }
 },
 "nbformat": 4,
 "nbformat_minor": 4
}
