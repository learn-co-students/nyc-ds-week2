{
 "cells": [
  {
   "cell_type": "markdown",
   "metadata": {},
   "source": [
    "# SQL 📚"
   ]
  },
  {
   "cell_type": "markdown",
   "metadata": {},
   "source": [
    "## Tasks\n",
    "\n",
    "**Please deliver the following:** \n",
    "\n",
    "1. A function named `stocks` that returns a dataframe of all stock prices for a given year. This function should have one argument: `year`.\n",
    "    - Drop all null values from this dataframe. \n",
    "    - Use this function to create a dataframe of 2017 stock prices.\n",
    "    \n",
    "2. Please create a file named `data_collection.py` within the `src` folder containing this function. \n",
    "3. Create a function called `begins_with_count`\n",
    "    - This function should receive a letter and return the number of companies that begin with the given letter.\n",
    "4. Create a histogram visualizing the distribution of these counts for every letter in the alphabet.\n",
    "5. Interpret the histogram.\n",
    "\n",
    "### How do I do this?\n",
    "\n",
    "You have been given a database called `stocks.db` within the [data/](data/) folder of this repo. \n",
    "- This database contains the opening and closing prices for the S&P 500 from 2013-2018.\n",
    "\n",
    "You will need to open up a connection to this database, construct an approproate SQL query, and move this code into a `stocks` function."
   ]
  },
  {
   "cell_type": "markdown",
   "metadata": {},
   "source": [
    "<center><h3>DATABASE SCHEMA</h3></center>\n",
    "\n",
    "<img src=\"../static/db_schema.png\" width=500 height=500>"
   ]
  },
  {
   "cell_type": "markdown",
   "metadata": {},
   "source": [
    "Please complete the assigned task below:"
   ]
  },
  {
   "cell_type": "code",
   "execution_count": 57,
   "metadata": {
    "ExecuteTime": {
     "end_time": "2020-09-22T04:00:42.151821Z",
     "start_time": "2020-09-22T04:00:42.132617Z"
    }
   },
   "outputs": [],
   "source": [
    "import pandas as pd\n",
    "import sqlite3\n",
    "import matplotlib.pyplot as plt\n",
    "\n",
    "def stocks(year):\n",
    "    conn = sqlite3.connect('../data/stocks.db')\n",
    "    df = pd.read_sql(f'''\n",
    "                  SELECT open,\n",
    "                         close,\n",
    "                         date,\n",
    "                         name\n",
    "                  FROM price\n",
    "                  JOIN date\n",
    "                  ON price.date_id = date.id\n",
    "                  JOIN company\n",
    "                  ON price.company_id = company.id\n",
    "                  WHERE date BETWEEN date('{year}-01-01') and date('{year+1}-01-01')''', conn)\n",
    "    \n",
    "    df.date = pd.to_datetime(df.date)\n",
    "    return df\n",
    "\n",
    "def stocks_more_pandas(year):\n",
    "    conn = sqlite3.connect('../data/stocks.db')\n",
    "    stocks = pd.read_sql('''\n",
    "                            SELECT * from price\n",
    "                            JOIN date\n",
    "                            ON price.date_id = date.id\n",
    "                            JOIN company\n",
    "                            ON price.company_id = company.id''', conn)\n",
    "    \n",
    "    stocks.date = pd.to_datetime(stocks.date)\n",
    "    return stocks[(stocks.date >= f'{year}-01-01') & (stocks.date < f'{year+1}-01-01')]\n",
    "\n",
    "\n",
    "\n",
    "\n",
    "def stocks_with_even_more_pandas(year):\n",
    "    conn = sqlite3.connect('../data/stocks.db')\n",
    "    stocks = pd.read_sql('''\n",
    "                            SELECT * from price\n",
    "                            JOIN date\n",
    "                            ON price.date_id = date.id\n",
    "                            JOIN company\n",
    "                            ON price.company_id = company.id LIMIT 6000''', conn)\n",
    "    \n",
    "    return stocks[(stocks.date >= f'{year}-01-01') & (stocks.date < f'{year+1}-01-01')]\n",
    "\n",
    "\n",
    "def too_much_pandas(year):\n",
    "    conn = sqlite3.connect('../data/stocks.db')\n",
    "    def to_string(dataframe):\n",
    "        for column in dataframe.columns:\n",
    "            dataframe[column] = dataframe[column].astype(str)\n",
    "            \n",
    "        return dataframe\n",
    "    \n",
    "    price = pd.read_sql('''SELECT * from price''', conn)\n",
    "    price = to_string(price)\n",
    "    date = pd.read_sql('''SELECT * from date''', conn)\n",
    "    date = to_string(date)\n",
    "    company = pd.read_sql('''SELECT * from company''', conn)\n",
    "    company = to_string(company)\n",
    "    \n",
    "    stocks = price\\\n",
    "    .merge(date.rename({'id': 'date_id'}, axis=1), on='date_id')\\\n",
    "    .merge(company.rename({'id':'company_id'}, axis=1), on='company_id')\n",
    "    \n",
    "    \n",
    "    return stocks[(stocks.date >= f'{year}-01-01') & (stocks.date < f'{year+1}-01-01')]\n",
    "    \n",
    "    "
   ]
  },
  {
   "cell_type": "code",
   "execution_count": 33,
   "metadata": {
    "ExecuteTime": {
     "end_time": "2020-09-22T03:33:51.706417Z",
     "start_time": "2020-09-22T03:33:51.661612Z"
    }
   },
   "outputs": [],
   "source": [
    "df = stocks_with_even_more_pandas(2017)"
   ]
  },
  {
   "cell_type": "code",
   "execution_count": 58,
   "metadata": {
    "ExecuteTime": {
     "end_time": "2020-09-22T04:00:50.636595Z",
     "start_time": "2020-09-22T04:00:46.901558Z"
    }
   },
   "outputs": [],
   "source": [
    "df = too_much_pandas(2017)"
   ]
  },
  {
   "cell_type": "code",
   "execution_count": 59,
   "metadata": {
    "ExecuteTime": {
     "end_time": "2020-09-22T04:00:53.831143Z",
     "start_time": "2020-09-22T04:00:53.826785Z"
    }
   },
   "outputs": [
    {
     "data": {
      "text/plain": [
       "(126032, 7)"
      ]
     },
     "execution_count": 59,
     "metadata": {},
     "output_type": "execute_result"
    }
   ],
   "source": [
    "df.shape"
   ]
  },
  {
   "cell_type": "code",
   "execution_count": 51,
   "metadata": {
    "ExecuteTime": {
     "end_time": "2020-09-22T03:38:42.964893Z",
     "start_time": "2020-09-22T03:38:42.957989Z"
    }
   },
   "outputs": [
    {
     "name": "stdout",
     "output_type": "stream",
     "text": [
      "<class 'pandas.core.frame.DataFrame'>\n",
      "RangeIndex: 1259 entries, 0 to 1258\n",
      "Data columns (total 2 columns):\n",
      " #   Column  Non-Null Count  Dtype \n",
      "---  ------  --------------  ----- \n",
      " 0   id      1259 non-null   int64 \n",
      " 1   date    1259 non-null   object\n",
      "dtypes: int64(1), object(1)\n",
      "memory usage: 19.8+ KB\n"
     ]
    }
   ],
   "source": [
    " "
   ]
  },
  {
   "cell_type": "code",
   "execution_count": 47,
   "metadata": {
    "ExecuteTime": {
     "end_time": "2020-09-22T03:37:59.524392Z",
     "start_time": "2020-09-22T03:37:59.513525Z"
    }
   },
   "outputs": [
    {
     "data": {
      "text/html": [
       "<div>\n",
       "<style scoped>\n",
       "    .dataframe tbody tr th:only-of-type {\n",
       "        vertical-align: middle;\n",
       "    }\n",
       "\n",
       "    .dataframe tbody tr th {\n",
       "        vertical-align: top;\n",
       "    }\n",
       "\n",
       "    .dataframe thead th {\n",
       "        text-align: right;\n",
       "    }\n",
       "</style>\n",
       "<table border=\"1\" class=\"dataframe\">\n",
       "  <thead>\n",
       "    <tr style=\"text-align: right;\">\n",
       "      <th></th>\n",
       "      <th>date_id</th>\n",
       "      <th>date</th>\n",
       "    </tr>\n",
       "  </thead>\n",
       "  <tbody>\n",
       "    <tr>\n",
       "      <th>0</th>\n",
       "      <td>1</td>\n",
       "      <td>2013-02-08 00:00:00</td>\n",
       "    </tr>\n",
       "    <tr>\n",
       "      <th>1</th>\n",
       "      <td>2</td>\n",
       "      <td>2013-02-11 00:00:00</td>\n",
       "    </tr>\n",
       "    <tr>\n",
       "      <th>2</th>\n",
       "      <td>3</td>\n",
       "      <td>2013-02-12 00:00:00</td>\n",
       "    </tr>\n",
       "    <tr>\n",
       "      <th>3</th>\n",
       "      <td>4</td>\n",
       "      <td>2013-02-13 00:00:00</td>\n",
       "    </tr>\n",
       "    <tr>\n",
       "      <th>4</th>\n",
       "      <td>5</td>\n",
       "      <td>2013-02-14 00:00:00</td>\n",
       "    </tr>\n",
       "    <tr>\n",
       "      <th>...</th>\n",
       "      <td>...</td>\n",
       "      <td>...</td>\n",
       "    </tr>\n",
       "    <tr>\n",
       "      <th>1254</th>\n",
       "      <td>1255</td>\n",
       "      <td>2018-02-01 00:00:00</td>\n",
       "    </tr>\n",
       "    <tr>\n",
       "      <th>1255</th>\n",
       "      <td>1256</td>\n",
       "      <td>2018-02-02 00:00:00</td>\n",
       "    </tr>\n",
       "    <tr>\n",
       "      <th>1256</th>\n",
       "      <td>1257</td>\n",
       "      <td>2018-02-05 00:00:00</td>\n",
       "    </tr>\n",
       "    <tr>\n",
       "      <th>1257</th>\n",
       "      <td>1258</td>\n",
       "      <td>2018-02-06 00:00:00</td>\n",
       "    </tr>\n",
       "    <tr>\n",
       "      <th>1258</th>\n",
       "      <td>1259</td>\n",
       "      <td>2018-02-07 00:00:00</td>\n",
       "    </tr>\n",
       "  </tbody>\n",
       "</table>\n",
       "<p>1259 rows × 2 columns</p>\n",
       "</div>"
      ],
      "text/plain": [
       "      date_id                 date\n",
       "0           1  2013-02-08 00:00:00\n",
       "1           2  2013-02-11 00:00:00\n",
       "2           3  2013-02-12 00:00:00\n",
       "3           4  2013-02-13 00:00:00\n",
       "4           5  2013-02-14 00:00:00\n",
       "...       ...                  ...\n",
       "1254     1255  2018-02-01 00:00:00\n",
       "1255     1256  2018-02-02 00:00:00\n",
       "1256     1257  2018-02-05 00:00:00\n",
       "1257     1258  2018-02-06 00:00:00\n",
       "1258     1259  2018-02-07 00:00:00\n",
       "\n",
       "[1259 rows x 2 columns]"
      ]
     },
     "execution_count": 47,
     "metadata": {},
     "output_type": "execute_result"
    }
   ],
   "source": [
    "date.rename({'id': 'date_id'}, axis=1)"
   ]
  },
  {
   "cell_type": "code",
   "execution_count": 13,
   "metadata": {
    "ExecuteTime": {
     "end_time": "2020-09-21T19:53:57.051205Z",
     "start_time": "2020-09-21T19:53:56.067114Z"
    }
   },
   "outputs": [],
   "source": [
    "import string\n",
    "\n",
    "def begins_with_count(letter):\n",
    "    return len(df[df.name.str.startswith(letter)].name.unique())\n",
    "\n",
    "begins_with = {}\n",
    "for letter in string.ascii_uppercase:\n",
    "    begins_with[letter] = begins_with_count(letter)"
   ]
  },
  {
   "cell_type": "code",
   "execution_count": 18,
   "metadata": {
    "ExecuteTime": {
     "end_time": "2020-09-21T19:54:28.263751Z",
     "start_time": "2020-09-21T19:54:28.103269Z"
    }
   },
   "outputs": [
    {
     "data": {
      "image/png": "[encoded data removed]",
      "text/plain": [
       "<Figure size 432x288 with 1 Axes>"
      ]
     },
     "metadata": {
      "needs_background": "light"
     },
     "output_type": "display_data"
    }
   ],
   "source": [
    "plt.hist(begins_with.values());"
   ]
  },
  {
   "cell_type": "code",
   "execution_count": null,
   "metadata": {},
   "outputs": [],
   "source": []
  }
 ],
 "metadata": {
  "kernelspec": {
   "display_name": "Python 3",
   "language": "python",
   "name": "python3"
  },
  "language_info": {
   "codemirror_mode": {
    "name": "ipython",
    "version": 3
   },
   "file_extension": ".py",
   "mimetype": "text/x-python",
   "name": "python",
   "nbconvert_exporter": "python",
   "pygments_lexer": "ipython3",
   "version": "3.7.7"
  },
  "toc": {
   "base_numbering": 1,
   "nav_menu": {},
   "number_sections": false,
   "sideBar": true,
   "skip_h1_title": true,
   "title_cell": "Table of Contents",
   "title_sidebar": "Contents",
   "toc_cell": false,
   "toc_position": {},
   "toc_section_display": true,
   "toc_window_display": false
  },
  "varInspector": {
   "cols": {
    "lenName": 16,
    "lenType": 16,
    "lenVar": 40
   },
   "kernels_config": {
    "python": {
     "delete_cmd_postfix": "",
     "delete_cmd_prefix": "del ",
     "library": "var_list.py",
     "varRefreshCmd": "print(var_dic_list())"
    },
    "r": {
     "delete_cmd_postfix": ") ",
     "delete_cmd_prefix": "rm(",
     "library": "var_list.r",
     "varRefreshCmd": "cat(var_dic_list()) "
    }
   },
   "types_to_exclude": [
    "module",
    "function",
    "builtin_function_or_method",
    "instance",
    "_Feature"
   ],
   "window_display": false
  }
 },
 "nbformat": 4,
 "nbformat_minor": 4
}
